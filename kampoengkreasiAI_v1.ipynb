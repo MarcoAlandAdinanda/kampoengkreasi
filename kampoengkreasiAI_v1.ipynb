{
  "nbformat": 4,
  "nbformat_minor": 0,
  "metadata": {
    "colab": {
      "provenance": [],
      "gpuType": "T4"
    },
    "kernelspec": {
      "name": "python3",
      "display_name": "Python 3"
    },
    "language_info": {
      "name": "python"
    },
    "accelerator": "GPU"
  },
  "cells": [
    {
      "cell_type": "markdown",
      "source": [
        "# KAMPOENG KREASI EXPERIMENTAL AI"
      ],
      "metadata": {
        "id": "yfmGW3RDlyaO"
      }
    },
    {
      "cell_type": "markdown",
      "source": [
        "# **UNTUK UJI COBA, SILAHKAN SETELAH LAKUKAN RUN ALL LANGSUNG MENUJU CELL PALING BAWAH**"
      ],
      "metadata": {
        "id": "JoQfuKdKl45N"
      }
    },
    {
      "cell_type": "code",
      "execution_count": 2,
      "metadata": {
        "colab": {
          "base_uri": "https://localhost:8080/"
        },
        "id": "xAT4D_JuknmU",
        "outputId": "331a6d6d-4d25-4885-c637-2e9ec9cc3ec0"
      },
      "outputs": [
        {
          "output_type": "stream",
          "name": "stdout",
          "text": [
            "fatal: destination path 'kampoengkreasi' already exists and is not an empty directory.\n"
          ]
        }
      ],
      "source": [
        "!git clone https://github.com/MarcoAlandAdinanda/kampoengkreasi.git\n",
        "from tensorflow.keras.models import load_model"
      ]
    },
    {
      "cell_type": "code",
      "source": [
        "intents = json.loads(open('/content/kampoengkreasi/kampoengkreasi_intents.json').read())\n",
        "words = pickle.load(open('/content/kampoengkreasi/words.pkl', 'rb'))\n",
        "classes = pickle.load(open('/content/kampoengkreasi/classes.pkl', 'rb'))"
      ],
      "metadata": {
        "id": "bJSgnc7Ykr5P"
      },
      "execution_count": null,
      "outputs": []
    },
    {
      "cell_type": "code",
      "source": [
        "model = load_model('/content/kampoengkreasi/kampoengkreasiv1.h5')"
      ],
      "metadata": {
        "id": "YzPLPHvgllu-"
      },
      "execution_count": null,
      "outputs": []
    },
    {
      "cell_type": "code",
      "source": [
        "def clean_up_sentence(sentence):\n",
        "  sentence_words = nltk.word_tokenize(sentence)\n",
        "  return sentence_words\n",
        "\n",
        "def bag_of_words(sentence):\n",
        "  sentence_words = clean_up_sentence(sentence)\n",
        "  bag = [0] * len(words)\n",
        "  for w in sentence_words:\n",
        "    for i, word in enumerate(words):\n",
        "      if word == w:\n",
        "        bag[i] = 1\n",
        "  return np.array(bag)\n",
        "\n",
        "def predict_class(sentence):\n",
        "  bow = bag_of_words(sentence)\n",
        "  res = model.predict(np.array([bow]))[0]\n",
        "  ERROR_THRESHOLD = 0.25\n",
        "  results = [[i, r] for i, r in enumerate(res) if r > ERROR_THRESHOLD]\n",
        "\n",
        "  results.sort(key=lambda x: x[1], reverse=True)\n",
        "  return_list = []\n",
        "  for r in results:\n",
        "    return_list.append({'intent': classes[r[0]], 'probability': str(r[1])})\n",
        "  return return_list\n",
        "\n",
        "def format_address(address):\n",
        "    address_lines = address.splitlines()\n",
        "    formatted_address = ' '.join(address_lines)\n",
        "    return formatted_address\n",
        "\n",
        "def get_response(intents_list, intents_json):\n",
        "    tag = intents_list[0]['intent']\n",
        "    list_of_intents = intents_json['intents']\n",
        "    for i in list_of_intents:\n",
        "        if i['tag'] == tag:\n",
        "            result = random.choice(i['responses'])\n",
        "            result = result.replace(\", \", \",\\n\")\n",
        "            if tag not in ['salam', 'perkenalan', 'terima_kasih', 'opsi', 'pencipta', 'noinput']:\n",
        "                if 'Alamat:' in result:\n",
        "                    address_start = result.index('Alamat:')\n",
        "                    address_end = result.index('Indonesia,') + len('Indonesia,')\n",
        "                    formatted_address = format_address(result[address_start:address_end])\n",
        "                    result = result[:address_start] + formatted_address + result[address_end:]\n",
        "                result = f\"Tentu saja!\\n{result}\\nSemoga sesuai :)\\nApakah ada yang ingin ditanyakan lagi?\"\n",
        "            break\n",
        "    return result"
      ],
      "metadata": {
        "id": "vwxuHTa8loiy"
      },
      "execution_count": null,
      "outputs": []
    },
    {
      "cell_type": "code",
      "source": [
        "while True:\n",
        "  message = input(\"\")\n",
        "  ints = predict_class(message)\n",
        "  res = get_response(ints, intents)\n",
        "  print(res)\n",
        "  if message == \"berhenti\":\n",
        "    break"
      ],
      "metadata": {
        "id": "QjeyxbEAmKnX"
      },
      "execution_count": null,
      "outputs": []
    }
  ]
}